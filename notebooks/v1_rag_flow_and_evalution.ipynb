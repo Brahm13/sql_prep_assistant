{
 "cells": [
  {
   "cell_type": "code",
   "execution_count": 5,
   "id": "5bd14990-12dd-421b-a54c-231032398741",
   "metadata": {},
   "outputs": [],
   "source": [
    "import pandas as pd"
   ]
  },
  {
   "cell_type": "code",
   "execution_count": 6,
   "id": "afd1b0af-62cc-4e42-a774-03181265dfca",
   "metadata": {
    "scrolled": true
   },
   "outputs": [],
   "source": [
    "data = pd.read_csv('../data/Cleaned_dataset.csv')"
   ]
  },
  {
   "cell_type": "markdown",
   "id": "840fac85-cac6-4fa1-acf9-2b97461d1920",
   "metadata": {},
   "source": [
    "## Ingestion \n",
    "##### Text based or index [minsearch]"
   ]
  },
  {
   "cell_type": "code",
   "execution_count": 31,
   "id": "2cfb27bf-4f37-4e56-90f6-2c72546f6121",
   "metadata": {},
   "outputs": [
    {
     "name": "stdout",
     "output_type": "stream",
     "text": [
      "[{'id': 516, 'question': 'What is a JOIN in SQL?', 'answer': 'A JOIN is used to combine rows from two or more tables based on a related column', 'category': 'SQL', 'difficulty_level': 'intermediate', 'tags': 'JOIN, SQL', 'example_query': 'SELECT * FROM employees INNER JOIN departments ON employees.department_id = departments.id;', 'explanation': 'JOINS are fundamental for retrieving related data across multiple tables', 'common_mistakes': 'Not understanding different types of JOINS (INNER, LEFT, RIGHT)', 'related_questions': 'What are CROSS JOINs?; Explain OUTER JOINS'}]\n"
     ]
    }
   ],
   "source": [
    "# text based or index based search\n",
    "\n",
    "import minsearch\n",
    "\n",
    "documents = data.to_dict(orient='records')\n",
    "\n",
    "def index_search(query, num_results=10,  boost_dict={'question': 3.0, 'answer': 2.0, 'tags':1.8}):\n",
    "    index = minsearch.Index(\n",
    "        ['question', 'answer', 'category', 'difficulty_level', 'tags', \n",
    "         'example_query', 'explanation', 'common_mistakes', 'related_questions'],\n",
    "        keyword_fields=['question', 'answer']\n",
    "        )\n",
    "    index.fit(documents)\n",
    "    return index.search(query, num_results=1,  boost_dict=boost_dict)\n",
    "\n",
    "\n",
    "query = \"Give me intermediate SQL interview questions\"\n",
    "search_results = index_search(query)\n",
    "print(search_results)\n"
   ]
  },
  {
   "cell_type": "markdown",
   "id": "6b14cbd3-43d3-4bb6-a525-09e972ef6d96",
   "metadata": {},
   "source": [
    "##### Configure OPENAI API keys "
   ]
  },
  {
   "cell_type": "code",
   "execution_count": 19,
   "id": "013de573-2bef-4b71-9150-f488751d8adc",
   "metadata": {},
   "outputs": [],
   "source": [
    "import os\n",
    "os.environ['OPENAI_API_KEY'] = 'xxxxxxx'"
   ]
  },
  {
   "cell_type": "code",
   "execution_count": 20,
   "id": "6c56b0b6-6ca1-4163-b6de-1c92b6c576b7",
   "metadata": {},
   "outputs": [
    {
     "data": {
      "text/plain": [
       "\"Sure! Here are some intermediate SQL interview questions that can help assess a candidate's knowledge and practical skills in SQL:\\n\\n### Querying Data\\n\\n1. **JOIN Operations:**\\n   - Explain the different types of JOINs (INNER JOIN, LEFT JOIN, RIGHT JOIN, FULL OUTER JOIN) with examples.\\n   - Write a SQL query to fetch all employees along with their corresponding department names, ensuring to include departments with no employees.\\n\\n2. **Subqueries:**\\n   - What is a subquery, and how does it differ from a JOIN? Provide an example.\\n   - Write a query that finds all products with a price above the average price of products in the same category.\\n\\n3. **Aggregate Functions:**\\n   - How do you use GROUP BY with aggregate functions? Give an example.\\n   - Write a query to find the total sales for each product category from a sales table.\\n\\n### Data Manipulation\\n\\n4. **INSERT, UPDATE, DELETE:**\\n   - Write a query to insert multiple records into a table.\\n   - Create a query that updates the stock quantity of a specific product if the sales exceed a certain threshold.\\n\\n5. **Transactions:**\\n   - Explain what a transaction is in SQL. Why are transactions important?\\n   - Write a SQL code snippet to demonstrate how you would use transactions to ensure data integrity during a series of related operations.\\n\\n### Advanced SQL Concepts\\n\\n6. **Window Functions:**\\n   - What are window functions in SQL? Provide an example of a window function.\\n   - Write a query using the ROW_NUMBER() function to rank employees within their departments based on salary.\\n\\n7. **CTEs (Common Table Expressions):**\\n   - Explain what a CTE is. How is it different from a temporary table?\\n   - Write a query using a CTE to find the top 3 highest-paid employees in each department.\\n\\n### Database Design and Best Practices\\n\\n8. **Normalization:**\\n   - What is normalization? Explain the different normal forms with examples.\\n   - Provide an example of a denormalized table schema and discuss its benefits and drawbacks.\\n\\n9. **Indexes:**\\n   - What is an index in SQL? How does it improve query performance?\\n   - Describe a scenario where using an index might hurt performance.\\n\\n### Performance Tuning\\n\\n10. **Query Optimization:**\\n    - What are some techniques you can use to tune a slow-running query?\\n    - Analyze how to determine if a query is using indexes effectively.\\n\\n### Miscellaneous\\n\\n11. **Data Types:**\\n    - What are the main differences between VARCHAR and CHAR data types?\\n    - Explain the concept of NULL in SQL. How does it differ from an empty string?\\n\\n12. **Stored Procedures and Functions:**\\n    - What is the difference between a stored procedure and a function?\\n    - Write a simple stored procedure to fetch employee details based on their ID.\\n\\nThese questions cover a range of topics and can help gauge a candidate's ability to work with SQL in practical scenarios. Adjust the complexity and focus based on the specific role and experience level you're interviewing for!\""
      ]
     },
     "execution_count": 20,
     "metadata": {},
     "output_type": "execute_result"
    }
   ],
   "source": [
    "# Configure OpenAI API for RAG\n",
    "from openai import OpenAI\n",
    "client = OpenAI()\n",
    "\n",
    "response = client.chat.completions.create(\n",
    "    model='gpt-4o-mini',\n",
    "    messages=[{\"role\": \"user\", \"content\": query}]\n",
    ")\n",
    "\n",
    "response.choices[0].message.content\n"
   ]
  },
  {
   "cell_type": "markdown",
   "id": "069cae6f-026f-4a9c-b5a4-dbdd35bf9b80",
   "metadata": {},
   "source": [
    "## RAG flow implementation using OPENAI API and index query using minsearch"
   ]
  },
  {
   "cell_type": "code",
   "execution_count": 21,
   "id": "a234c437-bac1-443c-9aa5-fe678c3bbc3e",
   "metadata": {},
   "outputs": [
    {
     "name": "stdout",
     "output_type": "stream",
     "text": [
      "To create a Common Table Expression (CTE) in SQL, you can use the following syntax:\n",
      "\n",
      "```sql\n",
      "WITH CTE_Name AS (\n",
      "    -- Your SQL query here\n",
      ")\n",
      "SELECT * FROM CTE_Name;\n",
      "```\n",
      "\n",
      "For example, if you want to create a CTE to summarize sales, you can write:\n",
      "\n",
      "```sql\n",
      "WITH Sales_CTE AS (\n",
      "    SELECT * FROM sales WHERE amount > 100\n",
      ")\n",
      "SELECT * FROM Sales_CTE;\n",
      "```\n",
      "\n",
      "This CTE can then be referenced within a SELECT, INSERT, UPDATE, or DELETE statement.\n"
     ]
    }
   ],
   "source": [
    " # RAG flow implementation using OPENAI API and index query using minsearch\n",
    "def search(query):\n",
    "    results = index.search(query, num_results=10)\n",
    "    return results\n",
    "\n",
    "\n",
    "prompt_template = \"\"\"\n",
    "You're a teaching assistant for SQL interview prep. Answer the QUESTION based on the CONTEXT from the database.\n",
    "Use only the facts from the CONTEXT to answer the QUESTION.\n",
    "\n",
    "QUESTION: {question}\n",
    "\n",
    "CONTEXT: \n",
    "{context}\n",
    "\"\"\".strip()\n",
    "\n",
    "entry_template = \"\"\"\n",
    "question: {question}\n",
    "answer: {answer}\n",
    "category: {category}\n",
    "difficulty_level: {difficulty_level}\n",
    "tags: {tags}\n",
    "example_query: {example_query}\n",
    "explanation: {explanation}\n",
    "common_mistakes: {common_mistakes}\n",
    "related_questions: {related_questions}\n",
    "\"\"\".strip()\n",
    "\n",
    "\n",
    "def build_prompt(query, search_results):\n",
    "    context = \"\\n\\n\".join([entry_template.format(**doc) for doc in search_results])\n",
    "    prompt = prompt_template.format(question=query, context=context)\n",
    "    return prompt\n",
    "\n",
    "def llm(prompt):\n",
    "    response = client.chat.completions.create(\n",
    "        model='gpt-4o-mini',  \n",
    "        messages=[{\"role\": \"user\", \"content\": prompt}]\n",
    "    )\n",
    "    return response.choices[0].message.content\n",
    "\n",
    "def rag(query):\n",
    "    search_results = search(query)\n",
    "    prompt = build_prompt(query, search_results)\n",
    "    answer = llm(prompt)\n",
    "    return answer\n",
    "\n",
    "query = \"How do I create a CTE in SQL?\"\n",
    "print(rag(query))\n"
   ]
  },
  {
   "cell_type": "markdown",
   "id": "428ea932-933d-439c-9e8f-af0036e4831c",
   "metadata": {},
   "source": [
    "## Hybrid Search"
   ]
  },
  {
   "cell_type": "code",
   "execution_count": 32,
   "id": "b4369495-af31-4ec4-9949-a5547c4f5f7b",
   "metadata": {},
   "outputs": [
    {
     "name": "stdout",
     "output_type": "stream",
     "text": [
      "**Best practices for joining two tables in SQL: techniques and examples**\n",
      "\n",
      "1. **Choosing the Right Type of JOIN**:\n",
      "   - Use `INNER JOIN` for retrieving only matching records from both tables.\n",
      "   - Use `LEFT JOIN` (or `RIGHT JOIN`) when you want to include all records from one table regardless of matches in the other.\n",
      "\n",
      "   **Example**:\n",
      "   ```sql\n",
      "   SELECT * FROM customers c LEFT JOIN orders o ON c.customer_id = o.customer_id;\n",
      "   ```\n",
      "   This query retrieves all customers and their corresponding orders, ensuring that customers without orders are still included in the results.\n",
      "\n",
      "2. **Using Common Table Expressions (CTEs)**:\n",
      "   - CTEs can simplify complex queries, especially when aggregating data from joined tables.\n",
      "\n",
      "   **Example**:\n",
      "   ```sql\n",
      "   WITH customer_spending AS (\n",
      "       SELECT c.customer_id, c.customer_name, SUM(o.amount) AS total_spend \n",
      "       FROM customers c \n",
      "       JOIN orders o ON c.customer_id = o.customer_id \n",
      "       GROUP BY c.customer_id, c.customer_name\n",
      "   )\n",
      "   SELECT * FROM customer_spending ORDER BY total_spend DESC LIMIT 5;\n",
      "   ```\n",
      "   This example calculates total spending per customer by joining the `customers` and `orders` tables, then selects the top 5 customers by total spending.\n",
      "\n",
      "3. **Indexing**:\n",
      "   - Ensure that columns used for joining (like `customer_id` in the example) are indexed for performance improvements.\n",
      "\n",
      "4. **Filtering Early**:\n",
      "   - Apply filters (using the WHERE clause) as early as possible to reduce the amount of data being processed in joins.\n",
      "\n",
      "   **Example**:\n",
      "   ```sql\n",
      "   SELECT * FROM employees e \n",
      "   INNER JOIN departments d ON e.department_id = d.id \n",
      "   WHERE d.location = 'New York';\n",
      "   ```\n",
      "   Here, only employees from departments located in New York are joined.\n",
      "\n",
      "5. **Avoiding SELECT * in Production**:\n",
      "   - Instead, specify only the columns you need to retrieve, which can enhance performance.\n",
      "\n",
      "   **Example**:\n",
      "   ```sql\n",
      "   SELECT c.customer_id, c.customer_name, SUM(o.amount) AS total_spend \n",
      "   FROM customers c \n",
      "   JOIN orders o ON c.customer_id = o.customer_id \n",
      "   GROUP BY c.customer_id, c.customer_name;\n",
      "   ```\n",
      "\n",
      "By following these practices, you ensure efficient and clear SQL queries when joining multiple tables, ultimately leading to better performance and maintainability.\n"
     ]
    }
   ],
   "source": [
    "from sklearn.feature_extraction.text import TfidfVectorizer\n",
    "from sklearn.metrics.pairwise import cosine_similarity\n",
    "import numpy as np\n",
    "\n",
    "\n",
    "tfidf_vectorizer = TfidfVectorizer()\n",
    "data['combined_text'] = data['question'] + ' ' + data['answer'] + ' ' + data['tags'] + ' ' + data['explanation']\n",
    "tfidf_matrix = tfidf_vectorizer.fit_transform(data['combined_text'])\n",
    "# tfidf_matrix = tfidf_vectorizer.fit_transform(data['question'])\n",
    "\n",
    "def vector_search(query, num_results=10):\n",
    "    query_vec = tfidf_vectorizer.transform([query])\n",
    "    cosine_similarities = cosine_similarity(query_vec, tfidf_matrix).flatten()\n",
    "    doc_indices = cosine_similarities.argsort()[-num_results:][::-1]\n",
    "    return [documents[idx] for idx in doc_indices]\n",
    "\n",
    "\n",
    "def hybrid_search(query):\n",
    "    keyword_results = index.search(query, num_results=5)  # Text-based search\n",
    "    vector_results = vector_search(query, num_results=5)  \n",
    "    \n",
    "    combined_results = keyword_results + vector_results\n",
    "    \n",
    "    # cosine similarity for each result\n",
    "    query_vec = tfidf_vectorizer.transform([query])\n",
    "    similarities = cosine_similarity(query_vec, tfidf_matrix).flatten()\n",
    "    \n",
    "    # (result, similarity) for sorting\n",
    "    result_with_similarity = [(result, sim) for result, sim in zip(combined_results, similarities)]\n",
    "    \n",
    "    # similarity score\n",
    "    ranked_results = sorted(result_with_similarity, key=lambda x: x[1], reverse=True)\n",
    "    \n",
    "    # results without similarity scores\n",
    "    return [result for result, _ in ranked_results[:10]]\n",
    "\n",
    "def rewrite_query(query):\n",
    "    rewrite_prompt = f\"Rewrite this query to be more effective for SQL interview questions retrieval: '{query}'\"\n",
    "    rewritten_query = llm(rewrite_prompt)  \n",
    "    return rewritten_query\n",
    "\n",
    "def advanced_rag(query):\n",
    "    rewritten_query = rewrite_query(query)\n",
    "    search_results = hybrid_search(rewritten_query)\n",
    "    search_results = hybrid_search(rewritten_query)\n",
    "    prompt = build_prompt(rewritten_query, search_results)  \n",
    "    answer = llm(prompt)  \n",
    "    return answer\n",
    "\n",
    "query = \"How to join two tables in SQL?\"\n",
    "print(advanced_rag(query))"
   ]
  },
  {
   "cell_type": "markdown",
   "id": "f04b4c96-58e7-434d-89ac-b2c7c3eec12a",
   "metadata": {},
   "source": [
    "## Retrieval Evaluation"
   ]
  },
  {
   "cell_type": "code",
   "execution_count": 23,
   "id": "21112d0f-7082-4c1d-87b0-28a62c7e21c4",
   "metadata": {},
   "outputs": [],
   "source": [
    "from tqdm.auto import tqdm\n",
    "\n",
    "df_question = pd.read_parquet('../data/retrieval_evaluate_dataset.parquet')\n",
    "\n",
    "ground_truth = df_question.to_dict(orient='records')\n",
    "\n",
    "# df_question.head()"
   ]
  },
  {
   "cell_type": "code",
   "execution_count": 33,
   "id": "58df8e6e-a4fe-4815-9e12-3ac323740954",
   "metadata": {},
   "outputs": [
    {
     "data": {
      "application/vnd.jupyter.widget-view+json": {
       "model_id": "39880119b95f4c54823f2c8565e7efa5",
       "version_major": 2,
       "version_minor": 0
      },
      "text/plain": [
       "  0%|          | 0/3005 [00:00<?, ?it/s]"
      ]
     },
     "metadata": {},
     "output_type": "display_data"
    },
    {
     "name": "stdout",
     "output_type": "stream",
     "text": [
      "{'hit_rate': 0.15274542429284527, 'mrr': 0.09754417241106092}\n"
     ]
    }
   ],
   "source": [
    "def hit_rate(relevance_total):\n",
    "    cnt = 0\n",
    "    for line in relevance_total:\n",
    "        if True in line:\n",
    "            cnt += 1\n",
    "    return cnt / len(relevance_total)\n",
    "\n",
    "def mrr(relevance_total):\n",
    "    total_score = 0.0\n",
    "    for line in relevance_total:\n",
    "        for rank in range(len(line)):\n",
    "            if line[rank] == True:\n",
    "                total_score += 1 / (rank + 1)\n",
    "                break\n",
    "    return total_score / len(relevance_total)\n",
    "\n",
    "def retrieval_search(query):\n",
    "    # boost = {}\n",
    "    results = index.search(\n",
    "        query=query,\n",
    "        # filter_dict={},\n",
    "        # boost_dict=boost,\n",
    "        num_results=10\n",
    "    )\n",
    "    return results\n",
    "\n",
    "\n",
    "def evaluate_retrieval(ground_truth, search_function):\n",
    "    relevance_total = []\n",
    "    for q in tqdm(ground_truth):\n",
    "        doc_id = q['id']\n",
    "        results = search_function(q['question'])\n",
    "        relevance = [d['id'] == doc_id for d in results]\n",
    "        relevance_total.append(relevance)\n",
    "    return {\n",
    "        'hit_rate': hit_rate(relevance_total),\n",
    "        'mrr': mrr(relevance_total),\n",
    "    }\n",
    "\n",
    "evaluation_result = evaluate_retrieval(ground_truth, lambda q: retrieval_search(q))\n",
    "print(evaluation_result)\n"
   ]
  },
  {
   "cell_type": "code",
   "execution_count": 35,
   "id": "c6dec69e-a6ce-4c18-9f3d-4c7781c1300b",
   "metadata": {},
   "outputs": [
    {
     "data": {
      "application/vnd.jupyter.widget-view+json": {
       "model_id": "1b61b584f1c546bbb8c3f8945dc2b418",
       "version_major": 2,
       "version_minor": 0
      },
      "text/plain": [
       "  0%|          | 0/3005 [00:00<?, ?it/s]"
      ]
     },
     "metadata": {},
     "output_type": "display_data"
    },
    {
     "name": "stdout",
     "output_type": "stream",
     "text": [
      "{'hit_rate': 0.07720465890183029, 'mrr': 0.07720465890183029}\n"
     ]
    }
   ],
   "source": [
    "evaluation_result = evaluate_retrieval(ground_truth, lambda q: index_search(q))\n",
    "print(evaluation_result)"
   ]
  },
  {
   "cell_type": "code",
   "execution_count": 34,
   "id": "e6680d7a-193e-4b5d-b38c-4e590455d570",
   "metadata": {},
   "outputs": [
    {
     "data": {
      "application/vnd.jupyter.widget-view+json": {
       "model_id": "b6105b5b4d0f4792b1e3532c50497dbe",
       "version_major": 2,
       "version_minor": 0
      },
      "text/plain": [
       "  0%|          | 0/3005 [00:00<?, ?it/s]"
      ]
     },
     "metadata": {},
     "output_type": "display_data"
    },
    {
     "name": "stdout",
     "output_type": "stream",
     "text": [
      "{'hit_rate': 0.15707154742096505, 'mrr': 0.06663008742043681}\n"
     ]
    }
   ],
   "source": [
    "evaluation_hybrid_search = evaluate_retrieval(ground_truth, lambda q: hybrid_search(q))\n",
    "print(evaluation_hybrid_search)"
   ]
  },
  {
   "cell_type": "markdown",
   "id": "e0ae7f91-6406-4f8b-8e17-5617ff87d944",
   "metadata": {},
   "source": [
    "## RAG Evaluation"
   ]
  },
  {
   "cell_type": "code",
   "execution_count": 28,
   "id": "4663e353-9c69-412a-90d5-93cbae8db443",
   "metadata": {},
   "outputs": [],
   "source": [
    "import json"
   ]
  },
  {
   "cell_type": "code",
   "execution_count": null,
   "id": "0255f5da-3f5b-4547-a010-9292134cba28",
   "metadata": {},
   "outputs": [],
   "source": [
    "df_sample = df_question.sample(n=20, random_state=1)\n",
    "sample = df_sample.to_dict(orient='records')\n",
    "\n",
    "\n",
    "prompt2_template = \"\"\"\n",
    "You are an expert evaluator for a RAG system.\n",
    "Your task is to analyze the relevance of the generated answer to the given question.\n",
    "Based on the relevance of the generated answer, you will classify it\n",
    "as \"NON_RELEVANT\", \"PARTLY_RELEVANT\", or \"RELEVANT\".\n",
    "\n",
    "Here is the data for evaluation:\n",
    "\n",
    "Question: {question}\n",
    "Generated Answer: {answer_llm}\n",
    "\n",
    "Please analyze the content and context of the generated answer in relation to the question\n",
    "and provide your evaluation in parsable JSON without using code blocks:\n",
    "\n",
    "{{\n",
    "  \"Relevance\": \"NON_RELEVANT\" | \"PARTLY_RELEVANT\" | \"RELEVANT\",\n",
    "  \"Explanation\": \"[Provide a brief explanation for your evaluation]\"\n",
    "}}\n",
    "\"\"\".strip()\n",
    "\n",
    "# Function to evaluate RAG outputs using an LLM\n",
    "def evaluate_rag(sample, rag_function, llm_evaluator):\n",
    "    evaluations = []\n",
    "    for record in tqdm(sample):\n",
    "        question = record['question']\n",
    "        answer_llm = rag_function(question)  # Generate answer from RAG\n",
    "        \n",
    "        # Prepare the evaluation prompt\n",
    "        prompt = prompt2_template.format(\n",
    "            question=question,\n",
    "            answer_llm=answer_llm\n",
    "        )\n",
    "        \n",
    "        # Evaluate using LLM \n",
    "        evaluation = llm_evaluator(prompt)\n",
    "        evaluation = json.loads(evaluation)\n",
    "        \n",
    "        # Store evaluation results\n",
    "        evaluations.append((record, answer_llm, evaluation))\n",
    "    \n",
    "    return evaluations\n",
    "\n",
    "\n",
    "def rag_function(question):    \n",
    "    return rag(question) + question\n",
    "\n",
    "def llm_evaluator(prompt):\n",
    "    evaluation = llm(prompt)\n",
    "    return json.dumps(evaluation)\n",
    "\n",
    "# Run the RAG evaluation\n",
    "evaluations = evaluate_rag(sample, rag_function, llm_evaluator)\n",
    "\n"
   ]
  },
  {
   "cell_type": "code",
   "execution_count": 55,
   "id": "f4d540b0-488e-4b0c-9b7d-38c3643db2d3",
   "metadata": {},
   "outputs": [],
   "source": [
    "# evaluations_ = evaluations\n",
    "relevance_values = []\n",
    "for eval_item in evaluations:\n",
    "    json_str = eval_item[2]  # Get the JSON-like string\n",
    "    relevance_data = json.loads(json_str)  # Parse it into a dictionary\n",
    "    relevance_values.append(relevance_data['Relevance'])\n",
    "\n"
   ]
  },
  {
   "cell_type": "code",
   "execution_count": 56,
   "id": "9a1d9005-dcd9-43d2-becf-00f564bd21e3",
   "metadata": {},
   "outputs": [
    {
     "name": "stdout",
     "output_type": "stream",
     "text": [
      "relevance\n",
      "RELEVANT           0.99\n",
      "PARTLY_RELEVANT    0.01\n",
      "Name: proportion, dtype: float64\n"
     ]
    }
   ],
   "source": [
    "df_eval = pd.DataFrame(evaluations, columns=['record', 'answer', 'evaluation'])\n",
    "\n",
    "\n",
    "df_eval['id'] = df_eval['record'].apply(lambda d: d['id'])\n",
    "df_eval['question'] = df_eval['record'].apply(lambda d: d['question'])\n",
    "\n",
    "\n",
    "df_eval['relevance'] = df_eval['evaluation'].apply(lambda d: json.loads(d)['Relevance'])\n",
    "df_eval['explanation'] = df_eval['evaluation'].apply(lambda d: json.loads(d)['Explanation'])\n",
    "\n",
    "\n",
    "df_eval.drop(columns=['record', 'evaluation'], inplace=True)\n",
    "\n",
    "df_eval.to_csv('../data/rag-evaluation.csv', index=False)\n",
    "\n",
    "\n",
    "print(df_eval['relevance'].value_counts(normalize=True))\n"
   ]
  }
 ],
 "metadata": {
  "kernelspec": {
   "display_name": "Python 3 (ipykernel)",
   "language": "python",
   "name": "python3"
  },
  "language_info": {
   "codemirror_mode": {
    "name": "ipython",
    "version": 3
   },
   "file_extension": ".py",
   "mimetype": "text/x-python",
   "name": "python",
   "nbconvert_exporter": "python",
   "pygments_lexer": "ipython3",
   "version": "3.10.12"
  }
 },
 "nbformat": 4,
 "nbformat_minor": 5
}
