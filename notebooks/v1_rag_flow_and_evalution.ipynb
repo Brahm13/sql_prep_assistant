{
 "cells": [
  {
   "cell_type": "code",
   "execution_count": 5,
   "id": "5bd14990-12dd-421b-a54c-231032398741",
   "metadata": {},
   "outputs": [],
   "source": [
    "import pandas as pd"
   ]
  },
  {
   "cell_type": "code",
   "execution_count": 6,
   "id": "afd1b0af-62cc-4e42-a774-03181265dfca",
   "metadata": {
    "scrolled": true
   },
   "outputs": [],
   "source": [
    "data = pd.read_csv('../data/Cleaned_dataset.csv')"
   ]
  },
  {
   "cell_type": "code",
   "execution_count": 502,
   "id": "2cfb27bf-4f37-4e56-90f6-2c72546f6121",
   "metadata": {},
   "outputs": [
    {
     "name": "stdout",
     "output_type": "stream",
     "text": [
      "[{'Unnamed: 0': 516, 'question': 'What is a JOIN in SQL?', 'answer': 'A JOIN is used to combine rows from two or more tables based on a related column', 'category': 'SQL', 'difficulty_level': 'intermediate', 'tags': 'JOIN, SQL', 'example_query': 'SELECT * FROM employees INNER JOIN departments ON employees.department_id = departments.id;', 'explanation': 'JOINS are fundamental for retrieving related data across multiple tables', 'common_mistakes': 'Not understanding different types of JOINS (INNER, LEFT, RIGHT)', 'related_questions': 'What are CROSS JOINs?; Explain OUTER JOINS'}]\n"
     ]
    }
   ],
   "source": [
    "# Ingest the Data into the Knowledge Base\n",
    "\n",
    "import minsearch\n",
    "\n",
    "documents = data.to_dict(orient='records')\n",
    "\n",
    "index = minsearch.Index(\n",
    "    ['question', 'answer', 'category', 'difficulty_level', 'tags', \n",
    "     'example_query', 'explanation', 'common_mistakes', 'related_questions'],\n",
    "    keyword_fields=['question', 'answer']\n",
    ")\n",
    "\n",
    "index.fit(documents)\n",
    "\n",
    "query = \"Give me intermediate SQL interview questions\"\n",
    "search_results = index.search(query, num_results=1)\n",
    "print(search_results)\n"
   ]
  },
  {
   "cell_type": "code",
   "execution_count": 506,
   "id": "3f217e37-695c-4514-9a93-e305a773469b",
   "metadata": {},
   "outputs": [],
   "source": [
    "# "
   ]
  },
  {
   "cell_type": "code",
   "execution_count": 507,
   "id": "6c56b0b6-6ca1-4163-b6de-1c92b6c576b7",
   "metadata": {},
   "outputs": [
    {
     "data": {
      "text/plain": [
       "\"Sure, here are some intermediate-level SQL interview questions that you might find useful:\\n\\n1. **Subqueries and Nested Queries:**\\n   - What is a subquery in SQL and how is it different from a JOIN? Provide an example.\\n   - How can you use a subquery to filter records in the outer query?\\n\\n2. **Joins:**\\n   - Explain the differences between INNER JOIN, LEFT JOIN, RIGHT JOIN, and FULL OUTER JOIN.\\n   - How would you return records that have matching entries in two tables along with unmatched records from one table?\\n\\n3. **Set Operations:**\\n   - What are SQL set operations and when would you use UNION vs UNION ALL?\\n   - How do INTERSECT and EXCEPT work in SQL?\\n\\n4. **Aggregations and Group By:**\\n   - How does the GROUP BY clause work, and how would you use it to find the total revenue per customer?\\n   - Can you filter groups in an SQL query? If so, how?\\n\\n5. **Indexes:**\\n   - What are the different types of indexes in SQL and in what scenarios would you use each?\\n   - How do indexes affect performance, both positively and negatively?\\n\\n6. **Performance Tuning:**\\n   - What strategies can be used to optimize an SQL query for better performance?\\n   - How would you analyze a query plan to understand performance bottlenecks?\\n\\n7. **Stored Procedures and Functions:**\\n   - What is the difference between a stored procedure and a function in SQL?\\n   - How can you pass parameters to a stored procedure? Provide an example.\\n\\n8. **Transactions and Concurrency:**\\n   - Explain the concept of transactions in SQL. What are ACID properties?\\n   - How do you handle concurrent data modifications in SQL?\\n\\n9. **Data Types:**\\n   - Discuss some common data types in SQL and when to use VARCHAR vs CHAR, or INT vs DECIMAL.\\n   - How do you handle NULL values in SQL? What functions can be used to deal with NULLs?\\n\\n10. **Window Functions:**\\n    - What are window functions in SQL? Give an example of how you would use them.\\n    - How do window functions differ from aggregate functions?\\n\\n11. **Common Table Expressions (CTEs):**\\n    - What is a CTE and how is it different from a subquery?\\n    - Provide an example of a recursive CTE.\\n\\n12. **Data Integrity:**\\n    - What are primary and foreign keys, and why are they important?\\n    - How can you enforce data integrity in a database schema?\\n\\nThese questions can help assess a candidate's understanding of intermediate SQL concepts as well as their practical application in real-world scenarios.\""
      ]
     },
     "execution_count": 507,
     "metadata": {},
     "output_type": "execute_result"
    }
   ],
   "source": [
    "# Configure OpenAI API for RAG\n",
    "from openai import OpenAI\n",
    "client = OpenAI()\n",
    "\n",
    "response = client.chat.completions.create(\n",
    "    model='gpt-4o-mini',\n",
    "    messages=[{\"role\": \"user\", \"content\": query}]\n",
    ")\n",
    "\n",
    "response.choices[0].message.content\n"
   ]
  },
  {
   "cell_type": "code",
   "execution_count": 512,
   "id": "a234c437-bac1-443c-9aa5-fe678c3bbc3e",
   "metadata": {},
   "outputs": [
    {
     "name": "stdout",
     "output_type": "stream",
     "text": [
      "To create a Common Table Expression (CTE) in SQL, you would use the `WITH` clause followed by a name for the CTE and the query that defines it. Here's the syntax:\n",
      "\n",
      "```sql\n",
      "WITH CTE_Name AS (\n",
      "    -- Your query here\n",
      ")\n",
      "SELECT * FROM CTE_Name;\n",
      "```\n",
      "\n",
      "For example, a CTE can be created to find sales with amounts greater than 100:\n",
      "\n",
      "```sql\n",
      "WITH Sales_CTE AS (SELECT * FROM sales WHERE amount > 100)\n",
      "SELECT * FROM Sales_CTE;\n",
      "```\n",
      "\n",
      "This structure allows you to reference the temporary result set produced by the CTE in a subsequent SELECT, INSERT, UPDATE, or DELETE statement, improving the readability and organization of complex queries.\n"
     ]
    }
   ],
   "source": [
    " # RAG flow implementation\n",
    "def search(query):\n",
    "    results = index.search(query, num_results=10)\n",
    "    return results\n",
    "\n",
    "\n",
    "prompt_template = \"\"\"\n",
    "You're a teaching assistant for SQL interview prep. Answer the QUESTION based on the CONTEXT from the database.\n",
    "Use only the facts from the CONTEXT to answer the QUESTION.\n",
    "\n",
    "QUESTION: {question}\n",
    "\n",
    "CONTEXT: \n",
    "{context}\n",
    "\"\"\".strip()\n",
    "\n",
    "entry_template = \"\"\"\n",
    "question: {question}\n",
    "answer: {answer}\n",
    "category: {category}\n",
    "difficulty_level: {difficulty_level}\n",
    "tags: {tags}\n",
    "example_query: {example_query}\n",
    "explanation: {explanation}\n",
    "common_mistakes: {common_mistakes}\n",
    "related_questions: {related_questions}\n",
    "\"\"\".strip()\n",
    "\n",
    "# Build the prompt for the LLM based on the search results\n",
    "def build_prompt(query, search_results):\n",
    "    context = \"\\n\\n\".join([entry_template.format(**doc) for doc in search_results])\n",
    "    prompt = prompt_template.format(question=query, context=context)\n",
    "    return prompt\n",
    "\n",
    "def llm(prompt):\n",
    "    response = client.chat.completions.create(\n",
    "        model='gpt-4o-mini',  \n",
    "        messages=[{\"role\": \"user\", \"content\": prompt}]\n",
    "    )\n",
    "    return response.choices[0].message.content\n",
    "\n",
    "# Putting it all together in the RAG function\n",
    "def rag(query):\n",
    "    search_results = search(query)\n",
    "    prompt = build_prompt(query, search_results)\n",
    "    answer = llm(prompt)\n",
    "    return answer\n",
    "\n",
    "query = \"How do I create a CTE in SQL?\"\n",
    "print(rag(query))\n"
   ]
  },
  {
   "cell_type": "code",
   "execution_count": 514,
   "id": "b4369495-af31-4ec4-9949-a5547c4f5f7b",
   "metadata": {},
   "outputs": [
    {
     "name": "stdout",
     "output_type": "stream",
     "text": [
      "To prepare for SQL interviews specifically focused on joining two tables, you can refer to the following facts distilled from the provided context:\n",
      "\n",
      "1. **Inner Join**: \n",
      "   - **Definition**: An inner join returns records that have matching values in both tables.\n",
      "   - **Example Query**: \n",
      "     ```sql\n",
      "     SELECT * FROM employees INNER JOIN departments ON employees.department_id = departments.id;\n",
      "     ```\n",
      "   - **Common Mistake**: Not understanding how inner joins filter out non-matching records.\n",
      "\n",
      "2. **Outer Join**: \n",
      "   - **Definition**: An outer join returns all records from one table and the matched records from the other.\n",
      "   - **Example Query**: \n",
      "     ```sql\n",
      "     SELECT * FROM employees LEFT JOIN departments ON employees.department_id = departments.id;\n",
      "     ```\n",
      "   - **Common Mistake**: Misusing the type of outer join can lead to missing data.\n",
      "\n",
      "3. **Self-Join**: \n",
      "   - **Definition**: A self-join is a regular join that joins a table to itself to combine rows based on related columns.\n",
      "   - **Example Query**: \n",
      "     ```sql\n",
      "     SELECT A.name, B.name FROM employees A, employees B WHERE A.manager_id = B.id;\n",
      "     ```\n",
      "   - **Common Mistake**: Not aliasing correctly can cause confusion.\n",
      "\n",
      "4. **Understanding Joins**: \n",
      "   - **Definition**: A JOIN is used to combine rows from two or more tables based on a related column.\n",
      "   - **Common Mistake**: Not understanding different types of JOINS (INNER, LEFT, RIGHT).\n",
      "\n",
      "These insights will help you effectively answer interview questions regarding the techniques and examples of joining two tables in SQL.\n"
     ]
    }
   ],
   "source": [
    "from sklearn.feature_extraction.text import TfidfVectorizer\n",
    "from sklearn.metrics.pairwise import cosine_similarity\n",
    "import numpy as np\n",
    "\n",
    "# Assuming `data` is your DataFrame and `index` is your minsearch Index object\n",
    "\n",
    "# Vectorize questions for vector-based search\n",
    "tfidf_vectorizer = TfidfVectorizer()\n",
    "tfidf_matrix = tfidf_vectorizer.fit_transform(data['question'])\n",
    "\n",
    "def vector_search(query, num_results=10):\n",
    "    query_vec = tfidf_vectorizer.transform([query])\n",
    "    cosine_similarities = cosine_similarity(query_vec, tfidf_matrix).flatten()\n",
    "    doc_indices = cosine_similarities.argsort()[-num_results:][::-1]\n",
    "    return [documents[idx] for idx in doc_indices]\n",
    "\n",
    "# Combining keyword and vector-based search (Hybrid Search)\n",
    "def hybrid_search(query):\n",
    "    keyword_results = index.search(query, num_results=5)  # Text-based search\n",
    "    vector_results = vector_search(query, num_results=5)  # Vector-based search\n",
    "    \n",
    "    # Combine results\n",
    "    combined_results = keyword_results + vector_results\n",
    "    \n",
    "    # Calculate cosine similarity for each result\n",
    "    query_vec = tfidf_vectorizer.transform([query])\n",
    "    similarities = cosine_similarity(query_vec, tfidf_matrix).flatten()\n",
    "    \n",
    "    # Create a list of tuples (result, similarity) for sorting\n",
    "    result_with_similarity = [(result, sim) for result, sim in zip(combined_results, similarities)]\n",
    "    \n",
    "    # Sort by similarity score\n",
    "    ranked_results = sorted(result_with_similarity, key=lambda x: x[1], reverse=True)\n",
    "    \n",
    "    # Return only the results without similarity scores\n",
    "    return [result for result, _ in ranked_results[:10]]\n",
    "\n",
    "# Implementing Query Rewriting\n",
    "def rewrite_query(query):\n",
    "    rewrite_prompt = f\"Rewrite this query to be more effective for SQL interview questions retrieval: '{query}'\"\n",
    "    rewritten_query = llm(rewrite_prompt)  # Assuming llm is defined elsewhere\n",
    "    return rewritten_query\n",
    "\n",
    "# Updated RAG function with hybrid search and query rewriting\n",
    "def advanced_rag(query):\n",
    "    rewritten_query = rewrite_query(query)\n",
    "    search_results = hybrid_search(rewritten_query)\n",
    "    prompt = build_prompt(rewritten_query, search_results)  # Assuming build_prompt is defined elsewhere\n",
    "    answer = llm(prompt)  # Assuming llm is defined elsewhere\n",
    "    return answer\n",
    "\n",
    "# Example usage\n",
    "query = \"How to join two tables in SQL?\"\n",
    "print(advanced_rag(query))"
   ]
  },
  {
   "cell_type": "code",
   "execution_count": 519,
   "id": "1be02516-e3de-48b3-8f3a-244e4008875f",
   "metadata": {},
   "outputs": [
    {
     "name": "stdout",
     "output_type": "stream",
     "text": [
      "Keyword Search Results:  {'precision': np.float64(0.0), 'recall': np.float64(0.0)}\n",
      "Vector Search Results:  {'precision': np.float64(0.0), 'recall': np.float64(0.0)}\n"
     ]
    }
   ],
   "source": [
    "from sklearn.metrics import precision_score, recall_score\n",
    "import numpy as np\n",
    "\n",
    "def evaluate_retrieval(query, ground_truth, method=\"keyword\"):\n",
    "    # Get results based on the method\n",
    "    if method == \"keyword\":\n",
    "        search_results = index.search(query, num_results=10)\n",
    "    elif method == \"vector\":\n",
    "        # Assuming we implemented vector search earlier\n",
    "        search_results = vector_search(query)\n",
    "\n",
    "    # Retrieve indices from search results\n",
    "    retrieved_ids = [data.index[data['question'] == doc['question']].tolist()[0] for doc in search_results]\n",
    "    \n",
    "    # Create binary arrays for precision and recall calculation\n",
    "    y_true = np.zeros(len(data), dtype=int)\n",
    "    y_pred = np.zeros(len(data), dtype=int)\n",
    "\n",
    "    # Mark relevant IDs in y_true\n",
    "    y_true[ground_truth] = 1  # Assuming ground_truth contains valid indices\n",
    "\n",
    "    # Mark retrieved IDs in y_pred\n",
    "    y_pred[retrieved_ids] = 1  # Assuming retrieved_ids contains valid indices\n",
    "\n",
    "    # Precision and recall calculation\n",
    "    precision = precision_score(y_true, y_pred)\n",
    "    recall = recall_score(y_true, y_pred)\n",
    "\n",
    "    return {\"precision\": precision, \"recall\": recall}\n",
    "\n",
    "# Example evaluation\n",
    "query = \"SQL intermediate question\"\n",
    "ground_truth = [1, 5, 7]  # Pretend these are relevant IDs\n",
    "eval_results = evaluate_retrieval(query, ground_truth, method=\"keyword\")\n",
    "print(\"Keyword Search Results: \", eval_results)\n",
    "\n",
    "# Compare with vector search\n",
    "eval_results_vector = evaluate_retrieval(query, ground_truth, method=\"vector\")\n",
    "print(\"Vector Search Results: \", eval_results_vector)"
   ]
  },
  {
   "cell_type": "code",
   "execution_count": 529,
   "id": "175158d8-a40f-4b66-b58f-9b2a1a49343d",
   "metadata": {},
   "outputs": [
    {
     "name": "stdout",
     "output_type": "stream",
     "text": [
      "                                     related_questions\n",
      "0    Candidates might forget to use COALESCE, resul...\n",
      "1    The query first creates a Common Table Express...\n",
      "3    This query joins the Sales and Products tables...\n",
      "5    This SQL query uses a JOIN to combine the 'emp...\n",
      "9    This query first calculates total sales for ea...\n",
      "..                                                 ...\n",
      "495  Candidates might forget to include the proper ...\n",
      "496  This query joins the 'products' and 'sales' ta...\n",
      "497  This query joins the `sales` and `products` ta...\n",
      "498  This query joins `customers` and `orders` to f...\n",
      "499  Candidates might forget to apply the correct d...\n",
      "\n",
      "[340 rows x 1 columns]\n"
     ]
    }
   ],
   "source": [
    "lengths = data['related_questions'].apply(lambda x: len(x) if isinstance(x, str) else 0)\n",
    "\n",
    "print(data[lengths > lengths.mean()][['related_questions']])"
   ]
  }
 ],
 "metadata": {
  "kernelspec": {
   "display_name": "Python 3 (ipykernel)",
   "language": "python",
   "name": "python3"
  },
  "language_info": {
   "codemirror_mode": {
    "name": "ipython",
    "version": 3
   },
   "file_extension": ".py",
   "mimetype": "text/x-python",
   "name": "python",
   "nbconvert_exporter": "python",
   "pygments_lexer": "ipython3",
   "version": "3.10.12"
  }
 },
 "nbformat": 4,
 "nbformat_minor": 5
}
