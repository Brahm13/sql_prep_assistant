{
 "cells": [
  {
   "cell_type": "code",
   "execution_count": 456,
   "id": "5bd14990-12dd-421b-a54c-231032398741",
   "metadata": {},
   "outputs": [],
   "source": [
    "import pandas as pd"
   ]
  },
  {
   "cell_type": "code",
   "execution_count": 480,
   "id": "afd1b0af-62cc-4e42-a774-03181265dfca",
   "metadata": {
    "scrolled": true
   },
   "outputs": [],
   "source": [
    "data = pd.read_csv('./sql_interview_questions.csv', sep=';')"
   ]
  },
  {
   "cell_type": "markdown",
   "id": "e170a8e6-7e80-4026-bccf-4c3fa2ab6552",
   "metadata": {},
   "source": [
    "## Data Cleaning\n",
    "Removing duplicate basis question and answer columns since they are the key columns "
   ]
  },
  {
   "cell_type": "code",
   "execution_count": 481,
   "id": "b45f1d77-db39-437b-adad-aba32b469bf6",
   "metadata": {},
   "outputs": [
    {
     "name": "stdout",
     "output_type": "stream",
     "text": [
      "Count of (rows, columns): (602, 10)\n",
      "count of unique questions: 601, max id column number: 610\n"
     ]
    },
    {
     "data": {
      "text/plain": [
       "Index(['question', 'answer', 'category', 'difficulty_level', 'tags',\n",
       "       'example_query', 'explanation', 'common_mistakes', 'related_questions'],\n",
       "      dtype='object')"
      ]
     },
     "execution_count": 481,
     "metadata": {},
     "output_type": "execute_result"
    }
   ],
   "source": [
    "data = data.dropna(subset=['question', 'answer'])\n",
    "print(f\"Count of (rows, columns): {data.shape}\")\n",
    "data = data[data['example_query'] != '\"example_query\"']\n",
    "print(f\"count of unique questions: {data['question'].nunique()}, max id column number: {data['id'].max()}\")\n",
    "data.set_index('id', inplace=True)\n",
    "data.columns"
   ]
  },
  {
   "cell_type": "markdown",
   "id": "13cdd244-041a-4fa4-93e2-ac79deee8b70",
   "metadata": {},
   "source": [
    "1. clean index that is column id contain values over 602 but data only has 602 rows this means id column has wrong values and require deletion of existing index and regenrate the index column named as id.\n",
    "2. empty values in category they are not marked as na or empty cell so need to find and remove them\n",
    "3. empty values in difficulty level they are not marked as na or empty cell so need to find and remove them\n",
    "4. empty values in example_query they are not marked as na or empty cell so need to find and remove them\n",
    "5. empty values in explanation they are not marked as na or empty cell so need to find and remove them\n",
    "6. empty values in common_mistakes they are not marked as na or empty cell so need to find and remove them\n",
    "7. not sure about related_questions column need to check if there are empty values like \"\" or []"
   ]
  },
  {
   "cell_type": "code",
   "execution_count": 482,
   "id": "cf410321-51b1-4bf5-97f2-38653dd98f29",
   "metadata": {},
   "outputs": [
    {
     "name": "stdout",
     "output_type": "stream",
     "text": [
      "600 (601, 9)\n"
     ]
    }
   ],
   "source": [
    "if data.index.max() > 602:\n",
    "    data.reset_index(drop=True, inplace=True)\n",
    "print(data.index.max(), data.shape)"
   ]
  },
  {
   "cell_type": "code",
   "execution_count": 483,
   "id": "8aae1827-520b-4c4a-97b6-8a13ca969359",
   "metadata": {},
   "outputs": [],
   "source": [
    "# data = data.map(lambda x: x.strip('\\r\\n').strip('\".\"\"').strip('\"').strip(' \"').strip('\" ') if isinstance(x, str) else x)\n",
    "\n",
    "data = data.map(lambda x: x.strip(' \\r\\n.\"') if isinstance(x, str) else x)\n",
    "\n",
    "# print(data['category'].unique())\n",
    "data.replace({'category':{'':'SQL','unknown':'SQL'}}, inplace=True)\n",
    "\n",
    "\n",
    "valid_level = ['easy', 'intermediate', 'advanced']\n",
    "\n",
    "\n",
    "def clean_difficulty_level(value):\n",
    "    if value.lower() in valid_level:\n",
    "        return value.lower()\n",
    "    return 'unknown' # None\n",
    "\n",
    "\n",
    "data['difficulty_level'] = data['difficulty_level'].apply(clean_difficulty_level)\n",
    "# print(data['difficulty_level'].unique())"
   ]
  },
  {
   "cell_type": "code",
   "execution_count": 484,
   "id": "aab9160d-7b48-4ca3-b634-0862bc07ddeb",
   "metadata": {},
   "outputs": [
    {
     "name": "stdout",
     "output_type": "stream",
     "text": [
      "461 66.9783693843594 0\n",
      "436\n",
      "['Not Available']\n"
     ]
    }
   ],
   "source": [
    "length = data['example_query'].apply(lambda x: len(x) if isinstance(x, str) else 0)\n",
    "print(length.max(), length.mean(), length.min())\n",
    "print(len(data[(length >= length.min()) & (length < length.mean())]['example_query']))\n",
    "\n",
    "data.replace({'example_query': {'Intermediate': 'Not Available'}}, inplace=True)\n",
    "data.replace({'example_query': {'': 'Not Available'}}, inplace=True)\n",
    "data.fillna({'example_query': 'Not Available'}, inplace=True)\n",
    "print(data[(length < 20)]['example_query'].unique())"
   ]
  },
  {
   "cell_type": "code",
   "execution_count": 485,
   "id": "f14ecc07-c139-4250-a037-0bd09eb60100",
   "metadata": {},
   "outputs": [
    {
     "name": "stdout",
     "output_type": "stream",
     "text": [
      "                                             question  \\\n",
      "71  You are given two tables: 'employees' (employe...   \n",
      "\n",
      "                                               answer category  \\\n",
      "71  SELECT d.department_name FROM employees e JOIN...      SQL   \n",
      "\n",
      "   difficulty_level          tags                               example_query  \\\n",
      "71          unknown  Intermediate  ['Join', 'Aggregate function', 'Group By']   \n",
      "\n",
      "      explanation                                    common_mistakes  \\\n",
      "71  example_query  The query joins the 'employees' and 'departmen...   \n",
      "\n",
      "                                    related_questions  \n",
      "71  Candidates might forget to use the HAVING clau...  \n",
      "\n",
      "\n",
      " question             You are given two tables: 'employees' (employe...\n",
      "answer               SELECT d.department_name FROM employees e JOIN...\n",
      "category                                                       unknown\n",
      "difficulty_level                                          Intermediate\n",
      "tags                        ['Join', 'Aggregate function', 'Group By']\n",
      "example_query                                            example_query\n",
      "explanation          The query joins the 'employees' and 'departmen...\n",
      "common_mistakes      Candidates might forget to use the HAVING clau...\n",
      "related_questions    Candidates might forget to use the HAVING clau...\n",
      "Name: 71, dtype: object\n"
     ]
    }
   ],
   "source": [
    "# for few rows moving column data\n",
    "print( (data[data['explanation'] == 'example_query']).head(1))\n",
    "# print(data.columns, data.columns[ 3:])\n",
    "data.loc[data['explanation'] == 'example_query', data.columns[2:-1]] = data.loc[data['explanation'] == 'example_query', data.columns[3:]].values\n",
    "# data.loc[mask, data.columns[2:-1]] = data.loc[mask, data.columns[3:]].value\n",
    "print('\\n\\n',data.loc[71])\n",
    "# print( (data[data['explanation'] == 'example_query']).head(1))"
   ]
  },
  {
   "cell_type": "code",
   "execution_count": 486,
   "id": "3b93a009-f762-4675-bdc2-347cfdb2894e",
   "metadata": {},
   "outputs": [
    {
     "name": "stdout",
     "output_type": "stream",
     "text": [
      "524 155.74875207986688 0\n",
      "245\n",
      "['Not Available' 'Join, Subquery']\n"
     ]
    }
   ],
   "source": [
    "\n",
    "length = data['explanation'].apply(lambda x: len(x) if isinstance(x, str) else 0)\n",
    "print(length.max(), length.mean(), length.min())\n",
    "print(len(data[(length >= length.min()) & (length < length.mean())]['explanation']))\n",
    "\n",
    "data.replace({'explanation': {'N/A': 'Not Available', '': 'Not Available'}}, inplace=True)\n",
    "# data.fillna({'example_query': 'Not Available'}, inplace=True)\n",
    "print(data[(length < 20)]['explanation'].unique())\n"
   ]
  },
  {
   "cell_type": "code",
   "execution_count": 488,
   "id": "b7c65dc5-4b35-4798-a313-f95f0de50ca2",
   "metadata": {},
   "outputs": [
    {
     "name": "stdout",
     "output_type": "stream",
     "text": [
      "['SELECT c.customer_name, SUM(o.total_amount) AS total_spent, COUNT(o.order_id) AS number_of_orders FROM customers c JOIN orders o ON c.customer_id = o.customer_id GROUP BY c.customer_name ORDER BY total_spent DESC LIMIT 5'\n",
      " 'SELECT category, product_name, total_sales FROM ranked_sales WHERE rank <= 3'\n",
      " 'SELECT e.name AS employee_name, d.department_name, (SELECT e2.name FROM employees AS e2 WHERE e2.id = d.manager_id) AS manager_name FROM employees AS e JOIN departments AS d ON e.department_id = d.id'\n",
      " 'WITH CitySales AS ( SELECT c.city, SUM(s.amount) AS total_sales FROM sales s JOIN customers c ON s.customer_id = c.customer_id GROUP BY c.city ) SELECT city, total_sales, RANK() OVER (ORDER BY total_sales DESC) AS rank FROM CitySales'\n",
      " 'CREATE TABLE salespeople (salesperson_id SERIAL PRIMARY KEY, name VARCHAR(100), hire_date DATE)'\n",
      " 'WITH EmployeeProjects AS (SELECT e.name AS employee_name, p.project_name, COALESCE(SUM(p.hours_logged), 0) AS total_hours FROM employees e LEFT JOIN projects p ON e.id = p.employee_id GROUP BY e.name, p.project_name), Managers AS (SELECT e.name AS manager_name, e2.name AS employee_name FROM employees e JOIN employees e2 ON e.manager_id = e2.id) SELECT ep.employee_name, ep.project_name, ep.total_hours, m.manager_name FROM EmployeeProjects ep LEFT JOIN Managers m ON ep.employee_name = m.employee_name ORDER BY ep.employee_name, ep.project_name']\n",
      "\n",
      "\n",
      " ['Not Available']\n"
     ]
    }
   ],
   "source": [
    "# data.columns\n",
    "length = data['common_mistakes'].apply(lambda x: len(x) if isinstance(x, str) else 0)\n",
    "\n",
    "data.replace({'':'Not Available'}, inplace = True)\n",
    "\n",
    "print(data[lengths < 20]['common_mistakes'].unique())\n",
    "\n",
    "length = data['related_questions'].apply(lambda x: len(x) if isinstance(x, str) else 0)\n",
    "\n",
    "data.replace({'':'Not Available'}, inplace = True)\n",
    "\n",
    "print('\\n\\n',data[lengths < 25]['related_questions'].unique())\n",
    "\n",
    "data.to_csv('')\n",
    "# data.loc[71:76]"
   ]
  },
  {
   "cell_type": "code",
   "execution_count": 489,
   "id": "7ccc8001-5bdc-4dd2-be95-9299f9656b17",
   "metadata": {},
   "outputs": [
    {
     "name": "stdout",
     "output_type": "stream",
     "text": [
      "--2024-10-06 13:04:01--  https://raw.githubusercontent.com/alexeygrigorev/minsearch/main/minsearch.py\n",
      "Resolving raw.githubusercontent.com (raw.githubusercontent.com)... 185.199.111.133, 185.199.108.133, 185.199.109.133, ...\n",
      "Connecting to raw.githubusercontent.com (raw.githubusercontent.com)|185.199.111.133|:443... connected.\n",
      "HTTP request sent, awaiting response... 200 OK\n",
      "Length: 3832 (3.7K) [text/plain]\n",
      "Saving to: ‘minsearch.py’\n",
      "\n",
      "minsearch.py        100%[===================>]   3.74K  --.-KB/s    in 0.001s  \n",
      "\n",
      "2024-10-06 13:04:02 (6.37 MB/s) - ‘minsearch.py’ saved [3832/3832]\n",
      "\n"
     ]
    }
   ],
   "source": [
    "!wget https://raw.githubusercontent.com/alexeygrigorev/minsearch/main/minsearch.py"
   ]
  },
  {
   "cell_type": "code",
   "execution_count": 490,
   "id": "2cfb27bf-4f37-4e56-90f6-2c72546f6121",
   "metadata": {},
   "outputs": [
    {
     "ename": "ImportError",
     "evalue": "cannot import name 'MinSearch' from 'minsearch' (/home/brahm/LLM ZOOMCAMP/local_parent_folder/sql_prep_assistant/notebooks/minsearch.py)",
     "output_type": "error",
     "traceback": [
      "\u001b[0;31m---------------------------------------------------------------------------\u001b[0m",
      "\u001b[0;31mImportError\u001b[0m                               Traceback (most recent call last)",
      "Cell \u001b[0;32mIn[490], line 1\u001b[0m\n\u001b[0;32m----> 1\u001b[0m \u001b[38;5;28;01mfrom\u001b[39;00m \u001b[38;5;21;01mminsearch\u001b[39;00m \u001b[38;5;28;01mimport\u001b[39;00m MinSearch\n\u001b[1;32m      3\u001b[0m \u001b[38;5;66;03m# Initialize the search engine\u001b[39;00m\n\u001b[1;32m      4\u001b[0m search_engine \u001b[38;5;241m=\u001b[39m MinSearch()\n",
      "\u001b[0;31mImportError\u001b[0m: cannot import name 'MinSearch' from 'minsearch' (/home/brahm/LLM ZOOMCAMP/local_parent_folder/sql_prep_assistant/notebooks/minsearch.py)"
     ]
    }
   ],
   "source": [
    "import minsearch \n",
    "\n",
    "# Initialize the search engine\n",
    "search_engine = MinSearch()\n",
    "\n",
    "# Assuming you want to index both 'question' and 'answer' fields\n",
    "for idx, row in data.iterrows():\n",
    "    search_engine.add_document(str(row['id']), row['question'] + \" \" + row['answer'])\n",
    "\n",
    "# Save the index\n",
    "search_engine.save_index('index_file')\n"
   ]
  }
 ],
 "metadata": {
  "kernelspec": {
   "display_name": "Python 3 (ipykernel)",
   "language": "python",
   "name": "python3"
  },
  "language_info": {
   "codemirror_mode": {
    "name": "ipython",
    "version": 3
   },
   "file_extension": ".py",
   "mimetype": "text/x-python",
   "name": "python",
   "nbconvert_exporter": "python",
   "pygments_lexer": "ipython3",
   "version": "3.10.12"
  }
 },
 "nbformat": 4,
 "nbformat_minor": 5
}
