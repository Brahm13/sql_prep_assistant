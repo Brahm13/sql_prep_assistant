{
 "cells": [
  {
   "cell_type": "code",
   "execution_count": 540,
   "id": "eaf276c1-0c48-4061-b807-e427f206643a",
   "metadata": {},
   "outputs": [],
   "source": [
    "import pandas as pd\n",
    "from openai import OpenAI\n",
    "from tqdm.auto import tqdm\n",
    "import json"
   ]
  },
  {
   "cell_type": "code",
   "execution_count": 541,
   "id": "bd1702a2-0405-4973-b5ef-5c55d4f86281",
   "metadata": {},
   "outputs": [],
   "source": [
    "client = OpenAI()\n",
    "df = pd.read_csv('../data/Cleaned_dataset.csv')\n",
    "# data.rename(columns={'Unnamed: 0': 'id'}, inplace=True)\n",
    "# data.to_csv('../data/Cleaned_dataset.csv')\n",
    "documents = df.to_dict(orient='records')"
   ]
  },
  {
   "cell_type": "code",
   "execution_count": 542,
   "id": "bd001fe6-ef60-48df-90dd-a45ff826ee99",
   "metadata": {},
   "outputs": [],
   "source": [
    "prompt_template = \"\"\"\n",
    "You are a user of an SQL Interview Preparation Assistant application.\n",
    "Based on the provided question and answer, formulate 5 specific questions that a user might ask regarding SQL interviews.\n",
    "Ensure that the questions are comprehensive and relevant to the given question and answer.\n",
    "Avoid using too many words from the original records.\n",
    "\n",
    "The record:\n",
    "\n",
    "question: {question}\n",
    "answer: {answer}\n",
    "category: {category}\n",
    "difficulty_level: {difficulty_level}\n",
    "tags: {tags}\n",
    "example_query: {example_query}\n",
    "explanation: {explanation}\n",
    "common_mistakes: {common_mistakes}\n",
    "related_questions: {related_questions}\n",
    "\n",
    "Provide the output in parsable JSON without using code blocks:\n",
    "\n",
    "{{\"questions\": [\"question1\", \"question2\", ..., \"question5\"]}}\n",
    "\"\"\".strip()\n",
    "\n",
    "prompt = prompt_template.format(**documents[0])\n",
    "\n",
    "def llm(prompt):\n",
    "    response = client.chat.completions.create(\n",
    "        model='gpt-4o-mini',\n",
    "        messages=[{\"role\": \"user\", \"content\": prompt}]\n",
    "    )\n",
    "    \n",
    "    return response.choices[0].message.content\n"
   ]
  },
  {
   "cell_type": "code",
   "execution_count": 543,
   "id": "e94f901a-8a21-4fac-a95b-d8f3f2c25c7d",
   "metadata": {},
   "outputs": [],
   "source": [
    "questions = llm(prompt)"
   ]
  },
  {
   "cell_type": "code",
   "execution_count": 544,
   "id": "a3d2896b-7186-491b-9361-0a7a0221b86f",
   "metadata": {},
   "outputs": [
    {
     "data": {
      "text/plain": [
       "{'questions': ['What is the purpose of using a LEFT JOIN in SQL queries?',\n",
       "  'How does the COALESCE function work in SQL, and when should it be used?',\n",
       "  'What common errors can occur when trying to aggregate data from multiple tables?',\n",
       "  'How do you ensure that all records from one table are included in the results when performing a JOIN?',\n",
       "  'Can you explain the significance of sorting results in SQL and how it affects data analysis?']}"
      ]
     },
     "execution_count": 544,
     "metadata": {},
     "output_type": "execute_result"
    }
   ],
   "source": [
    "json.loads(questions)"
   ]
  },
  {
   "cell_type": "code",
   "execution_count": 545,
   "id": "1afe8f8c-6c21-424e-9033-5831cf28c2fe",
   "metadata": {},
   "outputs": [],
   "source": [
    "def generate_questions(doc):\n",
    "    prompt = prompt_template.format(**doc)\n",
    "\n",
    "    response = client.chat.completions.create(\n",
    "        model='gpt-4o-mini',\n",
    "        messages=[{\"role\": \"user\", \"content\": prompt}]\n",
    "    )\n",
    "\n",
    "    json_response = response.choices[0].message.content\n",
    "    return json_response"
   ]
  },
  {
   "cell_type": "code",
   "execution_count": 546,
   "id": "bea61c82-829e-4d9c-be7b-eaf25928b8e2",
   "metadata": {},
   "outputs": [
    {
     "data": {
      "application/vnd.jupyter.widget-view+json": {
       "model_id": "2f379c9e2f4b465b9edaef55ad453c0f",
       "version_major": 2,
       "version_minor": 0
      },
      "text/plain": [
       "  0%|          | 0/601 [00:00<?, ?it/s]"
      ]
     },
     "metadata": {},
     "output_type": "display_data"
    }
   ],
   "source": [
    "output_path = '../data/retrieval_evaluate_dataset.csv'\n",
    "with open(output_path, 'w') as f:\n",
    "    f.write('id,question\\n')\n",
    "\n",
    "    for doc in tqdm(documents): \n",
    "        doc_id = doc['id']\n",
    "        \n",
    "        questions_raw = generate_questions(doc)\n",
    "        questions = json.loads(questions_raw)\n",
    "\n",
    "        for q in questions['questions']:\n",
    "            f.write(f\"{doc_id},{q}\\n\")\n",
    "\n"
   ]
  },
  {
   "cell_type": "code",
   "execution_count": 564,
   "id": "60ff952c-cf20-44d0-bf4d-a97ed9ca46f7",
   "metadata": {},
   "outputs": [
    {
     "name": "stdout",
     "output_type": "stream",
     "text": [
      "(3005, 2) Index(['id', 'question'], dtype='object')\n",
      "   id                                           question\n",
      "0   0  How do I write a SQL query to display all prod...\n",
      "1   0  What is the purpose of using COALESCE in SQL q...\n",
      "2   0  Can you explain the difference between INNER J...\n",
      "3   0  How can I sort the results of my SQL query in ...\n",
      "4   0  What are common mistakes when aggregating data...\n"
     ]
    }
   ],
   "source": [
    "dfr = pd.read_parquet('../data/retrieval_evaluate_dataset.parquet') #on_bad_lines='skip'\n",
    "print(dfr.shape,dfr.columns)  \n",
    "print(dfr.head())"
   ]
  }
 ],
 "metadata": {
  "kernelspec": {
   "display_name": "Python 3 (ipykernel)",
   "language": "python",
   "name": "python3"
  },
  "language_info": {
   "codemirror_mode": {
    "name": "ipython",
    "version": 3
   },
   "file_extension": ".py",
   "mimetype": "text/x-python",
   "name": "python",
   "nbconvert_exporter": "python",
   "pygments_lexer": "ipython3",
   "version": "3.10.12"
  }
 },
 "nbformat": 4,
 "nbformat_minor": 5
}
